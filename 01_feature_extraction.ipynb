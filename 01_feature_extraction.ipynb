{
 "cells": [
  {
   "cell_type": "code",
   "execution_count": 2,
   "id": "cebf4466",
   "metadata": {},
   "outputs": [],
   "source": [
    "import pandas as pd\n",
    "import numpy as np\n",
    "import librosa\n",
    "import os\n",
    "from sklearn.model_selection import train_test_split\n",
    "from sklearn.preprocessing import LabelEncoder"
   ]
  },
  {
   "cell_type": "code",
   "execution_count": 4,
   "id": "982c8808",
   "metadata": {},
   "outputs": [
    {
     "name": "stdout",
     "output_type": "stream",
     "text": [
      "Processando gênero: blues\n",
      "Processando gênero: classical\n",
      "Processando gênero: country\n",
      "Processando gênero: disco\n",
      "Processando gênero: hiphop\n",
      "Processando gênero: jazz\n",
      "Processando gênero: metal\n",
      "Processando gênero: pop\n",
      "Processando gênero: reggae\n",
      "Processando gênero: rock\n",
      "\n",
      "DataFrame de Features:\n",
      "            0           1          2          3          4          5  \\\n",
      "0 -113.619385  121.553017 -19.151058  42.345768  -6.371168  18.613033   \n",
      "1 -207.581512  123.997147   8.939115  35.870758   2.919971  21.518787   \n",
      "2  -90.776344  140.448608 -29.100559  31.687340 -13.975971  25.741682   \n",
      "3 -199.462006  150.094727   5.649167  26.870144   1.755441  14.236880   \n",
      "4 -160.291855  126.195770 -35.602501  22.151169 -32.487640  10.862022   \n",
      "\n",
      "           6          7          8          9  ...        31        32  \\\n",
      "0 -13.692060  15.339378 -12.283618  10.973776  ... -3.270344 -0.203871   \n",
      "1  -8.555368  23.355938 -10.101037  11.906445  ... -3.751413 -4.099237   \n",
      "2 -13.644712  11.623112 -11.775921   9.700466  ... -4.745265 -0.376574   \n",
      "3  -4.828873   9.297849  -0.753142   8.147393  ... -4.210177 -2.704965   \n",
      "4 -23.357162   0.500523 -11.804770   1.203877  ...  3.641650 -3.004783   \n",
      "\n",
      "         33        34        35        36        37        38        39  genre  \n",
      "0 -2.999194  4.479565 -0.471735  6.008713 -0.058999 -3.462854 -1.841409  blues  \n",
      "1 -2.455875  5.840261  3.557301  4.896468 -0.413413 -1.999016 -0.469413  blues  \n",
      "2  0.494360  0.445008 -4.162732 -4.808706 -6.697360 -4.424347 -0.984629  blues  \n",
      "3 -3.845015 -2.526683 -4.938648 -5.952127 -6.616816 -6.398325 -1.501764  blues  \n",
      "4 -6.107314 -6.952791 -4.075172 -1.136930 -0.484632 -4.788031 -3.219375  blues  \n",
      "\n",
      "[5 rows x 41 columns]\n"
     ]
    }
   ],
   "source": [
    "# Diretório onde os gêneros estão localizados\n",
    "data_dir = 'Data/genres_original'\n",
    "\n",
    "# Lista para armazenar as features e os rótulos\n",
    "features = []\n",
    "labels = []\n",
    "\n",
    "# Iterar sobre cada gênero no diretório\n",
    "for genre in os.listdir(data_dir):\n",
    "    genre_path = os.path.join(data_dir, genre)\n",
    "    if os.path.isdir(genre_path):\n",
    "        print(f\"Processando gênero: {genre}\")\n",
    "        # Iterar sobre cada arquivo de áudio no subdiretório\n",
    "        for filename in os.listdir(genre_path):\n",
    "            if filename.endswith('.wav'):\n",
    "                file_path = os.path.join(genre_path, filename)\n",
    "                \n",
    "                # Carregar o arquivo de áudio\n",
    "                y, sr = librosa.load(file_path, mono=True, duration=30)\n",
    "                \n",
    "                # Extrair os MFCCs\n",
    "                mfccs = librosa.feature.mfcc(y=y, sr=sr, n_mfcc=40)\n",
    "                \n",
    "                # Calcular a média dos MFCCs para simplificar a representação\n",
    "                mfccs_mean = np.mean(mfccs.T, axis=0)\n",
    "                \n",
    "                features.append(mfccs_mean)\n",
    "                labels.append(genre)\n",
    "\n",
    "# Transformar as listas em DataFrames\n",
    "df_features = pd.DataFrame(features)\n",
    "df_features['genre'] = labels\n",
    "\n",
    "# Exibir as primeiras linhas do DataFrame final\n",
    "print(\"\\nDataFrame de Features:\")\n",
    "print(df_features.head())"
   ]
  },
  {
   "cell_type": "code",
   "execution_count": 5,
   "id": "482ee896",
   "metadata": {},
   "outputs": [
    {
     "name": "stdout",
     "output_type": "stream",
     "text": [
      "\n",
      "Shape dos conjuntos de dados:\n",
      "X_train: (799, 40)\n",
      "X_test: (200, 40)\n",
      "y_train: (799,)\n",
      "y_test: (200,)\n"
     ]
    }
   ],
   "source": [
    "# Codificar os rótulos de texto para números\n",
    "le = LabelEncoder()\n",
    "df_features['genre_encoded'] = le.fit_transform(df_features['genre'])\n",
    "\n",
    "# Separar features (X) e rótulos (y)\n",
    "X = df_features.drop(['genre', 'genre_encoded'], axis=1)\n",
    "y = df_features['genre_encoded']\n",
    "\n",
    "# Dividir os dados em treino e teste\n",
    "X_train, X_test, y_train, y_test = train_test_split(X, y, test_size=0.2, random_state=42, stratify=y)\n",
    "\n",
    "print(\"\\nShape dos conjuntos de dados:\")\n",
    "print(\"X_train:\", X_train.shape)\n",
    "print(\"X_test:\", X_test.shape)\n",
    "print(\"y_train:\", y_train.shape)\n",
    "print(\"y_test:\", y_test.shape)\n",
    "\n",
    "# Salve os dados processados para a próxima etapa\n",
    "X_train.to_csv('X_train_music.csv', index=False)\n",
    "X_test.to_csv('X_test_music.csv', index=False)\n",
    "y_train.to_csv('y_train_music.csv', index=False)\n",
    "y_test.to_csv('y_test_music.csv', index=False)"
   ]
  },
  {
   "cell_type": "code",
   "execution_count": 6,
   "id": "7e2f4d9f",
   "metadata": {},
   "outputs": [
    {
     "name": "stdout",
     "output_type": "stream",
     "text": [
      "\n",
      "DataFrame de Features:\n",
      "            0           1          2          3          4          5  \\\n",
      "0 -113.619385  121.553017 -19.151058  42.345768  -6.371168  18.613033   \n",
      "1 -207.581512  123.997147   8.939115  35.870758   2.919971  21.518787   \n",
      "2  -90.776344  140.448608 -29.100559  31.687340 -13.975971  25.741682   \n",
      "3 -199.462006  150.094727   5.649167  26.870144   1.755441  14.236880   \n",
      "4 -160.291855  126.195770 -35.602501  22.151169 -32.487640  10.862022   \n",
      "\n",
      "           6          7          8          9  ...        31        32  \\\n",
      "0 -13.692060  15.339378 -12.283618  10.973776  ... -3.270344 -0.203871   \n",
      "1  -8.555368  23.355938 -10.101037  11.906445  ... -3.751413 -4.099237   \n",
      "2 -13.644712  11.623112 -11.775921   9.700466  ... -4.745265 -0.376574   \n",
      "3  -4.828873   9.297849  -0.753142   8.147393  ... -4.210177 -2.704965   \n",
      "4 -23.357162   0.500523 -11.804770   1.203877  ...  3.641650 -3.004783   \n",
      "\n",
      "         33        34        35        36        37        38        39  genre  \n",
      "0 -2.999194  4.479565 -0.471735  6.008713 -0.058999 -3.462854 -1.841409  blues  \n",
      "1 -2.455875  5.840261  3.557301  4.896468 -0.413413 -1.999016 -0.469413  blues  \n",
      "2  0.494360  0.445008 -4.162732 -4.808706 -6.697360 -4.424347 -0.984629  blues  \n",
      "3 -3.845015 -2.526683 -4.938648 -5.952127 -6.616816 -6.398325 -1.501764  blues  \n",
      "4 -6.107314 -6.952791 -4.075172 -1.136930 -0.484632 -4.788031 -3.219375  blues  \n",
      "\n",
      "[5 rows x 41 columns]\n",
      "\n",
      "DataFrame df_features.csv salvo com sucesso na pasta 'data'!\n"
     ]
    }
   ],
   "source": [
    "# Transformar as listas em DataFrames\n",
    "df_features = pd.DataFrame(features)\n",
    "df_features['genre'] = labels\n",
    "\n",
    "# Exibir as primeiras linhas do DataFrame final para confirmação\n",
    "print(\"\\nDataFrame de Features:\")\n",
    "print(df_features.head())\n",
    "\n",
    "# ==========================================================\n",
    "# Adicione este bloco para salvar o DataFrame\n",
    "# ==========================================================\n",
    "# Crie a pasta 'data' se ela ainda não existir\n",
    "import os\n",
    "if not os.path.exists('data'):\n",
    "    os.makedirs('data')\n",
    "\n",
    "# Salve o DataFrame completo na pasta 'data'\n",
    "df_features.to_csv('data/df_features.csv', index=False)\n",
    "\n",
    "print(\"\\nDataFrame df_features.csv salvo com sucesso na pasta 'data'!\")"
   ]
  }
 ],
 "metadata": {
  "kernelspec": {
   "display_name": ".venv (3.10.6)",
   "language": "python",
   "name": "python3"
  },
  "language_info": {
   "codemirror_mode": {
    "name": "ipython",
    "version": 3
   },
   "file_extension": ".py",
   "mimetype": "text/x-python",
   "name": "python",
   "nbconvert_exporter": "python",
   "pygments_lexer": "ipython3",
   "version": "3.10.6"
  }
 },
 "nbformat": 4,
 "nbformat_minor": 5
}
